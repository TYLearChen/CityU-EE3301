{
 "cells": [
  {
   "cell_type": "code",
   "execution_count": 2,
   "id": "returning-computer",
   "metadata": {},
   "outputs": [],
   "source": [
    "def plotGraph(personalCode, weighted, directed, algo=0):\n",
    "    \"\"\"\n",
    "    weighted: Boolean\n",
    "    directed: Boolean\n",
    "    algo:     Int\n",
    "    \n",
    "    Ref:\n",
    "    https://networkx.org/documentation/latest/reference/classes/index.html\n",
    "    https://networkx.org/documentation/latest/reference/drawing.html#module-networkx.drawing.layout\n",
    "    https://networkx.org/documentation/latest/auto_examples/drawing/plot_labels_and_colors.html?highlight=color\n",
    "    https://stackoverflow.com/questions/20133479/how-to-draw-directed-graphs-using-networkx-in-python\n",
    "    \"\"\"\n",
    "    import networkx as nx\n",
    "    import matplotlib.pyplot as plt\n",
    "    import matplotlib as mpl\n",
    "    import numpy as np\n",
    "\n",
    "    assert 0 <= algo <= 5\n",
    "\n",
    "    mpl.rcParams['figure.dpi'] = 300\n",
    "    title = ''\n",
    "    \n",
    "    \"Creating a directed/undirected graph G\"\n",
    "    if directed:\n",
    "        G = nx.DiGraph()\n",
    "        title += 'directed_'\n",
    "    else:\n",
    "        G = nx.Graph()\n",
    "        title += 'undirected_'\n",
    "    \n",
    "    \"Interpreting the 16-digit code as edges and adding them into graph G\"\n",
    "    for node in range(len(code) - 1):\n",
    "        node1 = int(code[node])\n",
    "        node2 = int(code[node+1])\n",
    "        weight = np.abs(node1 - node2)\n",
    "        G.add_edges_from([(node1,node2)], weight=weight)\n",
    "    \n",
    "    \"Chosing a algorithms for placing nodes on a plan\"\n",
    "    if algo == 0:\n",
    "        pos = nx.shell_layout(G)\n",
    "    elif algo == 1:\n",
    "        pos = nx.circular_layout(G)\n",
    "    elif algo == 2:\n",
    "        pos = nx.kamada_kawai_layout(G)\n",
    "    elif algo == 3:\n",
    "        pos = nx.spectral_layout(G)\n",
    "    elif algo == 4:\n",
    "        pos = nx.spiral_layout(G)\n",
    "    elif algo == 5:\n",
    "        pos = nx.random_layout(G)\n",
    "    \n",
    "    \"Adding labels of weighted on the figure for weighted graph\"\n",
    "    if weighted:\n",
    "        edge_labels = dict([((u,v,), d['weight']) for u,v,d in G.edges(data=True)])\n",
    "        nx.draw_networkx_edge_labels(G, pos, edge_labels=edge_labels)\n",
    "        title += 'weighted_'\n",
    "    else:\n",
    "        title += 'unweighted_'\n",
    "        \n",
    "    \"Plotting graph G on a figure\"\n",
    "    nx.draw(G, pos, \n",
    "            edge_color='black', \n",
    "            edgecolors=\"tab:gray\", \n",
    "            node_color='white', node_size=500, with_labels=True)\n",
    "\n",
    "    title += code\n",
    "    plt.title(title)\n",
    "    plt.tight_layout()\n",
    "    plt.show()"
   ]
  },
  {
   "cell_type": "code",
   "execution_count": 1,
   "id": "together-laptop",
   "metadata": {},
   "outputs": [
    {
     "output_type": "error",
     "ename": "NameError",
     "evalue": "name 'plotGraph' is not defined",
     "traceback": [
      "\u001b[0;31m---------------------------------------------------------------------------\u001b[0m",
      "\u001b[0;31mNameError\u001b[0m                                 Traceback (most recent call last)",
      "\u001b[0;32m<ipython-input-1-ea421859c974>\u001b[0m in \u001b[0;36m<module>\u001b[0;34m\u001b[0m\n\u001b[1;32m      1\u001b[0m \u001b[0mcode\u001b[0m \u001b[0;34m=\u001b[0m \u001b[0;34m'8718529638932104'\u001b[0m\u001b[0;34m\u001b[0m\u001b[0;34m\u001b[0m\u001b[0m\n\u001b[0;32m----> 2\u001b[0;31m \u001b[0mplotGraph\u001b[0m\u001b[0;34m(\u001b[0m\u001b[0mcode\u001b[0m\u001b[0;34m,\u001b[0m \u001b[0mweighted\u001b[0m\u001b[0;34m=\u001b[0m\u001b[0;32mFalse\u001b[0m\u001b[0;34m,\u001b[0m \u001b[0mdirected\u001b[0m\u001b[0;34m=\u001b[0m\u001b[0;32mFalse\u001b[0m\u001b[0;34m,\u001b[0m \u001b[0malgo\u001b[0m\u001b[0;34m=\u001b[0m\u001b[0;36m0\u001b[0m\u001b[0;34m)\u001b[0m\u001b[0;34m\u001b[0m\u001b[0;34m\u001b[0m\u001b[0m\n\u001b[0m\u001b[1;32m      3\u001b[0m \u001b[0;31m# plotGraph(code, weighted=False, directed=True, algo=0)\u001b[0m\u001b[0;34m\u001b[0m\u001b[0;34m\u001b[0m\u001b[0;34m\u001b[0m\u001b[0m\n\u001b[1;32m      4\u001b[0m \u001b[0;31m# plotGraph(code, weighted=True, directed=False, algo=0)\u001b[0m\u001b[0;34m\u001b[0m\u001b[0;34m\u001b[0m\u001b[0;34m\u001b[0m\u001b[0m\n\u001b[1;32m      5\u001b[0m \u001b[0;31m# plotGraph(code, weighted=True, directed=True, algo=0)\u001b[0m\u001b[0;34m\u001b[0m\u001b[0;34m\u001b[0m\u001b[0;34m\u001b[0m\u001b[0m\n",
      "\u001b[0;31mNameError\u001b[0m: name 'plotGraph' is not defined"
     ]
    }
   ],
   "source": [
    "code = '8718529638932104'\n",
    "plotGraph(code, weighted=False, directed=False, algo=0)\n",
    "# plotGraph(code, weighted=False, directed=True, algo=0)\n",
    "# plotGraph(code, weighted=True, directed=False, algo=0)\n",
    "# plotGraph(code, weighted=True, directed=True, algo=0)"
   ]
  },
  {
   "cell_type": "code",
   "execution_count": null,
   "id": "olive-infrared",
   "metadata": {},
   "outputs": [],
   "source": []
  }
 ],
 "metadata": {
  "kernelspec": {
   "name": "python3",
   "display_name": "Python 3.8.2 64-bit",
   "metadata": {
    "interpreter": {
     "hash": "31f2aee4e71d21fbe5cf8b01ff0e069b9275f58929596ceb00d14d90e3e16cd6"
    }
   }
  },
  "language_info": {
   "codemirror_mode": {
    "name": "ipython",
    "version": 3
   },
   "file_extension": ".py",
   "mimetype": "text/x-python",
   "name": "python",
   "nbconvert_exporter": "python",
   "pygments_lexer": "ipython3",
   "version": "3.8.2-final"
  }
 },
 "nbformat": 4,
 "nbformat_minor": 5
}